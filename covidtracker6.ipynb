{
 "cells": [
  {
   "cell_type": "code",
   "execution_count": 2,
   "id": "fabf4551",
   "metadata": {},
   "outputs": [
    {
     "name": "stdout",
     "output_type": "stream",
     "text": [
      "Accuracy: 0.023303632625085675\n",
      "Classification Report:\n",
      "              precision    recall  f1-score   support\n",
      "\n",
      "    Negative       1.00      0.02      0.04      1456\n",
      "    Positive       0.00      1.00      0.00         3\n",
      "\n",
      "    accuracy                           0.02      1459\n",
      "   macro avg       0.50      0.51      0.02      1459\n",
      "weighted avg       1.00      0.02      0.04      1459\n",
      "\n"
     ]
    }
   ],
   "source": [
    "import pandas as pd\n",
    "from sklearn.model_selection import train_test_split\n",
    "from sklearn.naive_bayes import GaussianNB\n",
    "from sklearn.metrics import accuracy_score, classification_report\n",
    "\n",
    "# Step 2: Load the dataset\n",
    "df = pd.read_csv(\"D:\\Summer2023\\APT3025A\\coronavirusdataset.csv\")\n",
    "\n",
    "# Step 3: Drop irrelevant columns\n",
    "# (Assuming you have already performed this step)\n",
    "\n",
    "# Step 4: Convert binary categorical variables to 0/1\n",
    "# (Assuming you have already performed this step)\n",
    "\n",
    "# Step 5: One-Hot Encoding for categorical features\n",
    "categorical_cols = [ 'cough_severity', 'sob_severity', 'ctab', 'labored_respiration', 'rhonchi', 'wheezes', 'cxr_findings', 'cxr_impression', 'cxr_label', 'cxr_link']\n",
    "df = pd.get_dummies(df, columns=categorical_cols, drop_first=True)\n",
    "\n",
    "# Select relevant features for prediction\n",
    "features = ['high_risk_exposure_occupation', 'diabetes', 'chd', 'htn', 'cancer',\n",
    "            'asthma', 'copd', 'autoimmune_dis', 'smoker', 'cough', 'sob', 'diarrhea',\n",
    "            'fatigue', 'headache', 'loss_of_smell', 'loss_of_taste',\n",
    "            'runny_nose', 'muscle_sore', 'sore_throat']\n",
    "target = 'covid19_test_results'\n",
    "\n",
    "# Step 6: Split the data into training and testing sets\n",
    "X = df[features]\n",
    "y = df[target]\n",
    "X_train, X_test, y_train, y_test = train_test_split(X, y, test_size=0.2, random_state=42)\n",
    "\n",
    "# Step 7: Train the Naïve Bayes Classifier\n",
    "nb_classifier = GaussianNB()\n",
    "nb_classifier.fit(X_train, y_train)\n",
    "\n",
    "# Step 8: Make Predictions\n",
    "y_pred = nb_classifier.predict(X_test)\n",
    "\n",
    "# Step 9: Evaluation\n",
    "accuracy = accuracy_score(y_test, y_pred)\n",
    "print(\"Accuracy:\", accuracy)\n",
    "\n",
    "# Print a detailed classification report\n",
    "print(\"Classification Report:\")\n",
    "print(classification_report(y_test, y_pred))\n"
   ]
  },
  {
   "cell_type": "code",
   "execution_count": null,
   "id": "c546e547",
   "metadata": {},
   "outputs": [],
   "source": []
  }
 ],
 "metadata": {
  "kernelspec": {
   "display_name": "Python 3 (ipykernel)",
   "language": "python",
   "name": "python3"
  },
  "language_info": {
   "codemirror_mode": {
    "name": "ipython",
    "version": 3
   },
   "file_extension": ".py",
   "mimetype": "text/x-python",
   "name": "python",
   "nbconvert_exporter": "python",
   "pygments_lexer": "ipython3",
   "version": "3.9.13"
  }
 },
 "nbformat": 4,
 "nbformat_minor": 5
}
